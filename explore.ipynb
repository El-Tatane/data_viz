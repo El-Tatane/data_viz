{
 "cells": [
  {
   "cell_type": "code",
   "execution_count": 2,
   "outputs": [],
   "source": [
    "import pandas as pd\n",
    "from pandas_profiling import ProfileReport\n",
    "import requests\n",
    "from bs4 import BeautifulSoup\n",
    "import re"
   ],
   "metadata": {
    "collapsed": false,
    "pycharm": {
     "name": "#%%\n"
    }
   }
  },
  {
   "cell_type": "code",
   "execution_count": 3,
   "outputs": [
    {
     "data": {
      "text/plain": "   course_id                                       course_title  \\\n0    1070968                 Ultimate Investment Banking Course   \n1    1113822  Complete GST Course & Certification - Grow You...   \n2    1006314  Financial Modeling for Business Analysts and C...   \n3    1210588  Beginner to Pro - Financial Analysis in Excel ...   \n4    1011058       How To Maximize Your Profits Trading Options   \n\n                                                 url  is_paid  price  \\\n0  https://www.udemy.com/ultimate-investment-bank...     True    200   \n1      https://www.udemy.com/goods-and-services-tax/     True     75   \n2  https://www.udemy.com/financial-modeling-for-b...     True     45   \n3  https://www.udemy.com/complete-excel-finance-c...     True     95   \n4  https://www.udemy.com/how-to-maximize-your-pro...     True    200   \n\n   num_subscribers  num_reviews  num_lectures               level  \\\n0             2147           23            51          All Levels   \n1             2792          923           274          All Levels   \n2             2174           74            51  Intermediate Level   \n3             2451           11            36          All Levels   \n4             1276           45            26  Intermediate Level   \n\n   content_duration       published_timestamp           subject rating-number  \n0               1.5 2017-01-18 20:58:58+00:00  Business Finance           4.0  \n1              39.0 2017-03-09 16:34:20+00:00  Business Finance           4.1  \n2               2.5 2016-12-19 19:26:30+00:00  Business Finance           4.2  \n3               3.0 2017-05-30 20:07:24+00:00  Business Finance           4.6  \n4               2.0 2016-12-13 14:57:18+00:00  Business Finance           4.4  ",
      "text/html": "<div>\n<style scoped>\n    .dataframe tbody tr th:only-of-type {\n        vertical-align: middle;\n    }\n\n    .dataframe tbody tr th {\n        vertical-align: top;\n    }\n\n    .dataframe thead th {\n        text-align: right;\n    }\n</style>\n<table border=\"1\" class=\"dataframe\">\n  <thead>\n    <tr style=\"text-align: right;\">\n      <th></th>\n      <th>course_id</th>\n      <th>course_title</th>\n      <th>url</th>\n      <th>is_paid</th>\n      <th>price</th>\n      <th>num_subscribers</th>\n      <th>num_reviews</th>\n      <th>num_lectures</th>\n      <th>level</th>\n      <th>content_duration</th>\n      <th>published_timestamp</th>\n      <th>subject</th>\n      <th>rating-number</th>\n    </tr>\n  </thead>\n  <tbody>\n    <tr>\n      <th>0</th>\n      <td>1070968</td>\n      <td>Ultimate Investment Banking Course</td>\n      <td>https://www.udemy.com/ultimate-investment-bank...</td>\n      <td>True</td>\n      <td>200</td>\n      <td>2147</td>\n      <td>23</td>\n      <td>51</td>\n      <td>All Levels</td>\n      <td>1.5</td>\n      <td>2017-01-18 20:58:58+00:00</td>\n      <td>Business Finance</td>\n      <td>4.0</td>\n    </tr>\n    <tr>\n      <th>1</th>\n      <td>1113822</td>\n      <td>Complete GST Course &amp; Certification - Grow You...</td>\n      <td>https://www.udemy.com/goods-and-services-tax/</td>\n      <td>True</td>\n      <td>75</td>\n      <td>2792</td>\n      <td>923</td>\n      <td>274</td>\n      <td>All Levels</td>\n      <td>39.0</td>\n      <td>2017-03-09 16:34:20+00:00</td>\n      <td>Business Finance</td>\n      <td>4.1</td>\n    </tr>\n    <tr>\n      <th>2</th>\n      <td>1006314</td>\n      <td>Financial Modeling for Business Analysts and C...</td>\n      <td>https://www.udemy.com/financial-modeling-for-b...</td>\n      <td>True</td>\n      <td>45</td>\n      <td>2174</td>\n      <td>74</td>\n      <td>51</td>\n      <td>Intermediate Level</td>\n      <td>2.5</td>\n      <td>2016-12-19 19:26:30+00:00</td>\n      <td>Business Finance</td>\n      <td>4.2</td>\n    </tr>\n    <tr>\n      <th>3</th>\n      <td>1210588</td>\n      <td>Beginner to Pro - Financial Analysis in Excel ...</td>\n      <td>https://www.udemy.com/complete-excel-finance-c...</td>\n      <td>True</td>\n      <td>95</td>\n      <td>2451</td>\n      <td>11</td>\n      <td>36</td>\n      <td>All Levels</td>\n      <td>3.0</td>\n      <td>2017-05-30 20:07:24+00:00</td>\n      <td>Business Finance</td>\n      <td>4.6</td>\n    </tr>\n    <tr>\n      <th>4</th>\n      <td>1011058</td>\n      <td>How To Maximize Your Profits Trading Options</td>\n      <td>https://www.udemy.com/how-to-maximize-your-pro...</td>\n      <td>True</td>\n      <td>200</td>\n      <td>1276</td>\n      <td>45</td>\n      <td>26</td>\n      <td>Intermediate Level</td>\n      <td>2.0</td>\n      <td>2016-12-13 14:57:18+00:00</td>\n      <td>Business Finance</td>\n      <td>4.4</td>\n    </tr>\n  </tbody>\n</table>\n</div>"
     },
     "execution_count": 3,
     "metadata": {},
     "output_type": "execute_result"
    }
   ],
   "source": [
    "df = pd.read_csv(\"/home/tatane/data/udemy/udemy_courses_augmented.csv\", parse_dates=[\"published_timestamp\"])\n",
    "df.head()"
   ],
   "metadata": {
    "collapsed": false,
    "pycharm": {
     "name": "#%%\n"
    }
   }
  },
  {
   "cell_type": "code",
   "source": [
    "df.describe()"
   ],
   "metadata": {
    "collapsed": false,
    "pycharm": {
     "name": "#%%\n"
    }
   },
   "execution_count": 5,
   "outputs": [
    {
     "data": {
      "text/plain": "          course_id        price  num_subscribers   num_reviews  num_lectures  \\\ncount  3.678000e+03  3678.000000      3678.000000   3678.000000   3678.000000   \nmean   6.759720e+05    66.049483      3197.150625    156.259108     40.108755   \nstd    3.432732e+05    61.005755      9504.117010    935.452044     50.383346   \nmin    8.324000e+03     0.000000         0.000000      0.000000      0.000000   \n25%    4.076925e+05    20.000000       111.000000      4.000000     15.000000   \n50%    6.879170e+05    45.000000       911.500000     18.000000     25.000000   \n75%    9.613555e+05    95.000000      2546.000000     67.000000     45.750000   \nmax    1.282064e+06   200.000000    268923.000000  27445.000000    779.000000   \n\n       content_duration  \ncount       3678.000000  \nmean           4.094517  \nstd            6.053840  \nmin            0.000000  \n25%            1.000000  \n50%            2.000000  \n75%            4.500000  \nmax           78.500000  ",
      "text/html": "<div>\n<style scoped>\n    .dataframe tbody tr th:only-of-type {\n        vertical-align: middle;\n    }\n\n    .dataframe tbody tr th {\n        vertical-align: top;\n    }\n\n    .dataframe thead th {\n        text-align: right;\n    }\n</style>\n<table border=\"1\" class=\"dataframe\">\n  <thead>\n    <tr style=\"text-align: right;\">\n      <th></th>\n      <th>course_id</th>\n      <th>price</th>\n      <th>num_subscribers</th>\n      <th>num_reviews</th>\n      <th>num_lectures</th>\n      <th>content_duration</th>\n    </tr>\n  </thead>\n  <tbody>\n    <tr>\n      <th>count</th>\n      <td>3.678000e+03</td>\n      <td>3678.000000</td>\n      <td>3678.000000</td>\n      <td>3678.000000</td>\n      <td>3678.000000</td>\n      <td>3678.000000</td>\n    </tr>\n    <tr>\n      <th>mean</th>\n      <td>6.759720e+05</td>\n      <td>66.049483</td>\n      <td>3197.150625</td>\n      <td>156.259108</td>\n      <td>40.108755</td>\n      <td>4.094517</td>\n    </tr>\n    <tr>\n      <th>std</th>\n      <td>3.432732e+05</td>\n      <td>61.005755</td>\n      <td>9504.117010</td>\n      <td>935.452044</td>\n      <td>50.383346</td>\n      <td>6.053840</td>\n    </tr>\n    <tr>\n      <th>min</th>\n      <td>8.324000e+03</td>\n      <td>0.000000</td>\n      <td>0.000000</td>\n      <td>0.000000</td>\n      <td>0.000000</td>\n      <td>0.000000</td>\n    </tr>\n    <tr>\n      <th>25%</th>\n      <td>4.076925e+05</td>\n      <td>20.000000</td>\n      <td>111.000000</td>\n      <td>4.000000</td>\n      <td>15.000000</td>\n      <td>1.000000</td>\n    </tr>\n    <tr>\n      <th>50%</th>\n      <td>6.879170e+05</td>\n      <td>45.000000</td>\n      <td>911.500000</td>\n      <td>18.000000</td>\n      <td>25.000000</td>\n      <td>2.000000</td>\n    </tr>\n    <tr>\n      <th>75%</th>\n      <td>9.613555e+05</td>\n      <td>95.000000</td>\n      <td>2546.000000</td>\n      <td>67.000000</td>\n      <td>45.750000</td>\n      <td>4.500000</td>\n    </tr>\n    <tr>\n      <th>max</th>\n      <td>1.282064e+06</td>\n      <td>200.000000</td>\n      <td>268923.000000</td>\n      <td>27445.000000</td>\n      <td>779.000000</td>\n      <td>78.500000</td>\n    </tr>\n  </tbody>\n</table>\n</div>"
     },
     "execution_count": 5,
     "metadata": {},
     "output_type": "execute_result"
    }
   ]
  },
  {
   "cell_type": "code",
   "execution_count": 6,
   "outputs": [
    {
     "data": {
      "text/plain": "HBox(children=(HTML(value='Summarize dataset'), FloatProgress(value=0.0, max=27.0), HTML(value='')))",
      "application/vnd.jupyter.widget-view+json": {
       "version_major": 2,
       "version_minor": 0,
       "model_id": "9c9de712c7ed46b5ab425d1ee3269a66"
      }
     },
     "metadata": {},
     "output_type": "display_data"
    },
    {
     "name": "stdout",
     "output_type": "stream",
     "text": [
      "\n",
      "\n"
     ]
    },
    {
     "data": {
      "text/plain": "HBox(children=(HTML(value='Generate report structure'), FloatProgress(value=0.0, max=1.0), HTML(value='')))",
      "application/vnd.jupyter.widget-view+json": {
       "version_major": 2,
       "version_minor": 0,
       "model_id": "013c087b544446bc8b3885610c7bc707"
      }
     },
     "metadata": {},
     "output_type": "display_data"
    },
    {
     "data": {
      "text/plain": "HBox(children=(HTML(value='Render widgets'), FloatProgress(value=0.0, max=1.0), HTML(value='')))",
      "application/vnd.jupyter.widget-view+json": {
       "version_major": 2,
       "version_minor": 0,
       "model_id": "e34a0ec43f9944c4b833e691d0113757"
      }
     },
     "metadata": {},
     "output_type": "display_data"
    },
    {
     "data": {
      "text/plain": "VBox(children=(Tab(children=(Tab(children=(GridBox(children=(VBox(children=(GridspecLayout(children=(HTML(valu…",
      "application/vnd.jupyter.widget-view+json": {
       "version_major": 2,
       "version_minor": 0,
       "model_id": "6e5f5ce99f4145e99795d05cdcca2cc6"
      }
     },
     "metadata": {},
     "output_type": "display_data"
    }
   ],
   "source": [
    "profile = ProfileReport(df, title=\"Pandas Profiling Report\")\n",
    "profile.to_widgets()"
   ],
   "metadata": {
    "collapsed": false,
    "pycharm": {
     "name": "#%%\n"
    }
   }
  },
  {
   "cell_type": "code",
   "execution_count": 28,
   "outputs": [
    {
     "name": "stdout",
     "output_type": "stream",
     "text": [
      "ligne dupliquée supprimée : 6\n"
     ]
    }
   ],
   "source": [
    "nb_row = df.shape[0]\n",
    "df.drop_duplicates(inplace=True)\n",
    "print(f\"ligne dupliquée supprimée : {abs(df.shape[0] - nb_row)}\")"
   ],
   "metadata": {
    "collapsed": false,
    "pycharm": {
     "name": "#%%\n"
    }
   }
  },
  {
   "cell_type": "code",
   "execution_count": 29,
   "outputs": [
    {
     "name": "stdout",
     "output_type": "stream",
     "text": [
      "ligne contenant NaN supprimée : 0\n"
     ]
    }
   ],
   "source": [
    "nb_row = df.shape[0]\n",
    "df.dropna(inplace=True)\n",
    "print(f\"ligne contenant NaN supprimée : {abs(df.shape[0] - nb_row)}\")"
   ],
   "metadata": {
    "collapsed": false,
    "pycharm": {
     "name": "#%%\n"
    }
   }
  },
  {
   "cell_type": "code",
   "execution_count": 34,
   "outputs": [
    {
     "data": {
      "text/plain": "<AxesSubplot:>"
     },
     "execution_count": 34,
     "metadata": {},
     "output_type": "execute_result"
    },
    {
     "data": {
      "text/plain": "<Figure size 432x288 with 1 Axes>",
      "image/png": "[encoded data removed]"
     },
     "metadata": {
      "needs_background": "light"
     },
     "output_type": "display_data"
    }
   ],
   "source": [
    "df[\"month\"] = df[\"published_timestamp\"].dt.month\n",
    "df[\"month\"].hist()"
   ],
   "metadata": {
    "collapsed": false,
    "pycharm": {
     "name": "#%%\n"
    }
   }
  },
  {
   "cell_type": "code",
   "execution_count": null,
   "outputs": [],
   "source": [],
   "metadata": {
    "collapsed": false,
    "pycharm": {
     "name": "#%%\n"
    }
   }
  }
 ],
 "metadata": {
  "kernelspec": {
   "display_name": "Python 3",
   "language": "python",
   "name": "python3"
  },
  "language_info": {
   "codemirror_mode": {
    "name": "ipython",
    "version": 2
   },
   "file_extension": ".py",
   "mimetype": "text/x-python",
   "name": "python",
   "nbconvert_exporter": "python",
   "pygments_lexer": "ipython2",
   "version": "2.7.6"
  }
 },
 "nbformat": 4,
 "nbformat_minor": 0
}